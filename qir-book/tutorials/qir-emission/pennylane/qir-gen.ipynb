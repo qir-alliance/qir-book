{
 "cells": [
  {
   "attachments": {},
   "cell_type": "markdown",
   "metadata": {},
   "source": [
    "## PennyLane ➡️ QIR 🚧 ## "
   ]
  },
  {
   "cell_type": "code",
   "execution_count": 1,
   "metadata": {},
   "outputs": [],
   "source": [
    "import pennylane as qml \n",
    "import numpy as np \n",
    "import math\n",
    "dev = qml.device('default.qubit', wires=3, shots=None)"
   ]
  },
  {
   "cell_type": "code",
   "execution_count": 2,
   "metadata": {},
   "outputs": [],
   "source": [
    "@qml.qnode(dev)\n",
    "def teleport(state):\n",
    "    qml.QubitStateVector(state, wires=0)\n",
    "    qml.Hadamard(wires=1)\n",
    "    qml.CNOT(wires=[1, 2])\n",
    "    qml.CNOT(wires=[0, 1])\n",
    "    qml.Hadamard(wires=0)\n",
    "    m1 = qml.measure(0)\n",
    "    m2 = qml.measure(1)\n",
    "    qml.cond(m2 == 1, qml.PauliX)(wires=2)\n",
    "    qml.cond(m1 == 1, qml.PauliZ)(wires=2)\n",
    "\n",
    "    return qml.density_matrix(wires=2)"
   ]
  },
  {
   "cell_type": "code",
   "execution_count": 3,
   "metadata": {},
   "outputs": [],
   "source": [
    "def ket_0():\n",
    "    return np.array([1, 0])\n",
    "\n",
    "def ket_1():\n",
    "    return np.array([0, 1])\n",
    "to_send=[0, 1, 0, 0, 1, 0, 0, 0, 0, 1, 1, 0, 0, 1, 0, 1, 0, 1, 1, 0, 1, 1,\n",
    "       0, 0, 0, 1, 1, 0, 1, 1, 0, 0, 0, 1, 1, 0, 1, 1, 1, 1, 0, 0, 1, 0,\n",
    "       0, 0, 0, 0, 0, 1, 1, 1, 0, 1, 1, 1, 0, 1, 1, 0, 1, 1, 1, 1, 0, 1,\n",
    "       1, 1, 0, 0, 1, 0, 0, 1, 1, 0, 1, 1, 0, 0, 0, 1, 1, 0, 0, 1, 0, 0,\n",
    "       0, 0, 1, 0, 0, 0, 0, 1]\n",
    "teleported=[]\n",
    "for x in to_send:\n",
    "    if x == 0: state = ket_0()       \n",
    "    if x == 1: state = ket_1()\n",
    "    output_state = teleport(state)\n",
    "   \n",
    "    if math.ceil(output_state[0, 0].real) == 1: output = 0\n",
    "    if math.ceil(output_state[1, 1].real) == 1: output = 1\n",
    "    teleported.append(output) \n",
    "\n"
   ]
  },
  {
   "cell_type": "code",
   "execution_count": 4,
   "metadata": {},
   "outputs": [
    {
     "data": {
      "text/plain": [
       "'Hello world!'"
      ]
     },
     "execution_count": 4,
     "metadata": {},
     "output_type": "execute_result"
    }
   ],
   "source": [
    "teleported_str = ''.join(str(x) for x in teleported)\n",
    "teleported_base2= int(teleported_str, 2)\n",
    "teleported_base2_chunks= (teleported_base2.bit_length() +7) // 8\n",
    "teleported_bytes = teleported_base2.to_bytes(teleported_base2_chunks, \"big\")\n",
    "received =teleported_bytes.decode(encoding='utf-8')\n",
    "received"
   ]
  },
  {
   "cell_type": "markdown",
   "metadata": {},
   "source": [
    "# 🚧 under construction 🚧 #"
   ]
  },
  {
   "cell_type": "code",
   "execution_count": null,
   "metadata": {},
   "outputs": [],
   "source": []
  }
 ],
 "metadata": {
  "kernelspec": {
   "display_name": "qir-book",
   "language": "python",
   "name": "python3"
  },
  "language_info": {
   "codemirror_mode": {
    "name": "ipython",
    "version": 3
   },
   "file_extension": ".py",
   "mimetype": "text/x-python",
   "name": "python",
   "nbconvert_exporter": "python",
   "pygments_lexer": "ipython3",
   "version": "3.9.15"
  },
  "orig_nbformat": 4,
  "vscode": {
   "interpreter": {
    "hash": "e3d8a3e929341ca9805488423d71b9fe5e24a2d3fa1cf3daeab2a7b4b4e474a6"
   }
  }
 },
 "nbformat": 4,
 "nbformat_minor": 2
}
